{
 "cells": [
  {
   "cell_type": "code",
   "execution_count": 17,
   "metadata": {},
   "outputs": [],
   "source": [
    "from pysal.model import spreg\n",
    "import pandas as pd\n",
    "import geopandas as gpd\n",
    "import seaborn as sns\n",
    "import osmnx as ox\n",
    "\n",
    "from libpysal.weights import lat2W\n",
    "from libpysal import weights\n",
    "sns.set(style=\"whitegrid\")"
   ]
  },
  {
   "cell_type": "code",
   "execution_count": 18,
   "metadata": {},
   "outputs": [],
   "source": [
    "data = pd.read_csv(\"!NS-SeC.csv\")\n",
    "data.columns\n",
    "\n",
    "data = data.dropna()"
   ]
  },
  {
   "cell_type": "code",
   "execution_count": 19,
   "metadata": {},
   "outputs": [
    {
     "name": "stdout",
     "output_type": "stream",
     "text": [
      "      Sum  L1, L2 and L3  L4, L5 and L6         L7  L8 and L9  L10 and L11  \\\n",
      "0    1958       0.014138      30.745659   9.856997  14.044944     4.954035   \n",
      "2    2095      17.326969      25.441527  12.601432  15.417661     6.921241   \n",
      "3    1882      13.921360      23.219979  11.742827  10.892667     8.660999   \n",
      "4    2166       9.510619      19.252078  13.019391  14.496768     5.263158   \n",
      "5    2020      18.564356      29.405941  11.435644  14.603960     6.534653   \n",
      "..    ...            ...            ...        ...        ...          ...   \n",
      "341  1802      12.708102      24.139845  12.319645  12.375139     7.880133   \n",
      "342  1957      15.738375      22.892182  11.599387  13.030148     7.256004   \n",
      "343  2155       9.280742      20.232019  11.322506  12.714617     9.095128   \n",
      "344  2371      20.750738      28.806411  11.809363  11.514129     7.212147   \n",
      "345  2111      18.285173      26.859308  10.753198  13.074372     6.489815   \n",
      "\n",
      "           L12        L13  L14.1 and L14.2       L15  \n",
      "0     5.515832   5.005107         1.685393  0.510725  \n",
      "2     9.307876  10.596659         1.575179  0.811456  \n",
      "3    12.592986  13.655685         4.410202  0.903294  \n",
      "4    14.219760  15.835642         6.694367  1.708218  \n",
      "5     7.128713   9.108911         2.871287  0.346535  \n",
      "..         ...        ...              ...       ...  \n",
      "341  11.154273  15.038846         3.995560  0.388457  \n",
      "342  10.986203  13.387839         4.445580  0.664282  \n",
      "343  12.482599  19.350348         4.640371  0.881671  \n",
      "344   8.013496   9.152256         2.319696  0.421763  \n",
      "345   9.711037  11.605874         2.842255  0.378967  \n",
      "\n",
      "[323 rows x 10 columns]\n",
      "0      26.000000\n",
      "2      34.482759\n",
      "3      34.883721\n",
      "4      37.142857\n",
      "5      32.608696\n",
      "         ...    \n",
      "341    42.222222\n",
      "342    36.734694\n",
      "343    43.548387\n",
      "344    34.042553\n",
      "345    37.037037\n",
      "Name: Y6_overweight, Length: 323, dtype: float64\n"
     ]
    }
   ],
   "source": [
    "X = data.iloc[:,6:16]\n",
    "y = data.iloc[:,5]\n",
    "\n",
    "X['L1, L2 and L3'] = X['L1, L2 and L3']/X['Sum']*100\n",
    "X['L4, L5 and L6'] = X['L4, L5 and L6']/X['Sum']*100\n",
    "X['L7'] = X['L7']/X['Sum']*100\n",
    "X['L8 and L9'] = X['L8 and L9']/X['Sum']*100\n",
    "X['L10 and L11'] = X['L10 and L11']/X['Sum']*100\n",
    "X['L12'] = X['L12']/X['Sum']*100\n",
    "X['L13'] = X['L13']/X['Sum']*100\n",
    "X['L14.1 and L14.2'] = X['L14.1 and L14.2']/X['Sum']*100\n",
    "X['L15'] = X['L15']/X['Sum']*100\n",
    "\n",
    "#X = X.iloc[:,1:]\n",
    "print(X)\n",
    "print(y)"
   ]
  },
  {
   "cell_type": "code",
   "execution_count": 20,
   "metadata": {},
   "outputs": [
    {
     "name": "stdout",
     "output_type": "stream",
     "text": [
      "REGRESSION\n",
      "----------\n",
      "SUMMARY OF OUTPUT: ORDINARY LEAST SQUARES\n",
      "-----------------------------------------\n",
      "Data set            :     unknown\n",
      "Weights matrix      :        None\n",
      "Dependent Variable  :     dep_var                Number of Observations:         323\n",
      "Mean dependent var  :     37.3657                Number of Variables   :           6\n",
      "S.D. dependent var  :      6.1969                Degrees of Freedom    :         317\n",
      "R-squared           :      0.5829\n",
      "Adjusted R-squared  :      0.5763\n",
      "Sum squared residual:    5157.146                F-statistic           :     88.6120\n",
      "Sigma-square        :      16.269                Prob(F-statistic)     :   4.329e-58\n",
      "S.E. of regression  :       4.033                Log likelihood        :    -905.751\n",
      "Sigma-square ML     :      15.966                Akaike info criterion :    1823.501\n",
      "S.E of regression ML:      3.9958                Schwarz criterion     :    1846.167\n",
      "\n",
      "------------------------------------------------------------------------------------\n",
      "            Variable     Coefficient       Std.Error     t-Statistic     Probability\n",
      "------------------------------------------------------------------------------------\n",
      "            CONSTANT      17.0862296       1.5205864      11.2366055       0.0000000\n",
      "                  L7       0.6334769       0.1597914       3.9643991       0.0000910\n",
      "         L10 and L11       0.3150016       0.1759783       1.7900022       0.0744079\n",
      "                 L12       0.5632173       0.1380685       4.0792611       0.0000572\n",
      "     L14.1 and L14.2       0.6565979       0.1234037       5.3207287       0.0000002\n",
      "                 L15       0.3803930       0.0649333       5.8582082       0.0000000\n",
      "------------------------------------------------------------------------------------\n",
      "\n",
      "REGRESSION DIAGNOSTICS\n",
      "MULTICOLLINEARITY CONDITION NUMBER           24.536\n",
      "\n",
      "TEST ON NORMALITY OF ERRORS\n",
      "TEST                             DF        VALUE           PROB\n",
      "Jarque-Bera                       2           6.366           0.0415\n",
      "\n",
      "DIAGNOSTICS FOR HETEROSKEDASTICITY\n",
      "RANDOM COEFFICIENTS\n",
      "TEST                             DF        VALUE           PROB\n",
      "Breusch-Pagan test                5          12.304           0.0309\n",
      "Koenker-Bassett test              5           9.181           0.1021\n",
      "================================ END OF REPORT =====================================\n"
     ]
    }
   ],
   "source": [
    "variable_names = [\n",
    "    #\"L1, L2 and L3\",\n",
    "    #\"L4, L5 and L6\",\n",
    "    \"L7\",\n",
    "    #\"L8 and L9\",\n",
    "    \"L10 and L11\",\n",
    "    \"L12\",\n",
    "    #\"L13\",\n",
    "    \"L14.1 and L14.2\",\n",
    "    \"L15\"\n",
    "    ]\n",
    "\n",
    "\n",
    "# Fit OLS model\n",
    "m1 = spreg.OLS(\n",
    "    # Dependent variable\n",
    "    y.values,\n",
    "    # Independent variables\n",
    "    X[variable_names].values,\n",
    "    # Dependent variable name\n",
    "    # Independent variable name\n",
    "    name_x = variable_names,\n",
    ")\n",
    "\n",
    "print(m1.summary)"
   ]
  },
  {
   "cell_type": "code",
   "execution_count": 21,
   "metadata": {},
   "outputs": [
    {
     "name": "stderr",
     "output_type": "stream",
     "text": [
      "c:\\Users\\1\\anaconda3\\lib\\site-packages\\pyproj\\crs\\crs.py:141: FutureWarning: '+init=<authority>:<code>' syntax is deprecated. '<authority>:<code>' is the preferred initialization method. When making the change, be mindful of axis order changes: https://pyproj4.github.io/pyproj/stable/gotchas.html#axis-order-changes-in-proj-6\n",
      "  in_crs_string = _prepare_from_proj_string(in_crs_string)\n",
      "c:\\Users\\1\\anaconda3\\lib\\site-packages\\pyproj\\crs\\crs.py:141: FutureWarning: '+init=<authority>:<code>' syntax is deprecated. '<authority>:<code>' is the preferred initialization method. When making the change, be mindful of axis order changes: https://pyproj4.github.io/pyproj/stable/gotchas.html#axis-order-changes-in-proj-6\n",
      "  in_crs_string = _prepare_from_proj_string(in_crs_string)\n",
      "C:\\Users\\1\\AppData\\Local\\Temp\\ipykernel_21452\\118815056.py:6: FutureWarning: This function is deprecated. See: https://pyproj4.github.io/pyproj/stable/gotchas.html#upgrading-to-pyproj-2-from-pyproj-1\n",
      "  data.iloc[i,16] = pyproj.transform(bng, wgs84, data.iloc[i,16], data.iloc[i,17])[0]\n",
      "C:\\Users\\1\\AppData\\Local\\Temp\\ipykernel_21452\\118815056.py:7: FutureWarning: This function is deprecated. See: https://pyproj4.github.io/pyproj/stable/gotchas.html#upgrading-to-pyproj-2-from-pyproj-1\n",
      "  data.iloc[i,17] = pyproj.transform(bng, wgs84, data.iloc[i,16], data.iloc[i,17])[1]\n"
     ]
    }
   ],
   "source": [
    "import pyproj\n",
    "bng=pyproj.Proj(init='epsg:27700')\n",
    "wgs84 = pyproj.Proj(init='epsg:4326')\n",
    "\n",
    "for i in  range(len(data)):\n",
    "    data.iloc[i,16] = pyproj.transform(bng, wgs84, data.iloc[i,16], data.iloc[i,17])[0]\n",
    "    data.iloc[i,17] = pyproj.transform(bng, wgs84, data.iloc[i,16], data.iloc[i,17])[1]\n",
    "\n",
    "from libpysal.weights import KNN\n",
    "data[\"geometry\"] = gpd.points_from_xy(data['x'], data['y'])"
   ]
  },
  {
   "cell_type": "code",
   "execution_count": 22,
   "metadata": {},
   "outputs": [
    {
     "name": "stdout",
     "output_type": "stream",
     "text": [
      "REGRESSION\n",
      "----------\n",
      "SUMMARY OF OUTPUT: SPATIAL TWO STAGE LEAST SQUARES\n",
      "--------------------------------------------------\n",
      "Data set            :     unknown\n",
      "Weights matrix      :     unknown\n",
      "Dependent Variable  :     dep_var                Number of Observations:         323\n",
      "Mean dependent var  :     37.3657                Number of Variables   :           7\n",
      "S.D. dependent var  :      6.1969                Degrees of Freedom    :         316\n",
      "Pseudo R-squared    :      0.5882\n",
      "Spatial Pseudo R-squared:  0.5811\n",
      "\n",
      "------------------------------------------------------------------------------------\n",
      "            Variable     Coefficient       Std.Error     z-Statistic     Probability\n",
      "------------------------------------------------------------------------------------\n",
      "            CONSTANT      12.6423015       3.7519635       3.3695161       0.0007530\n",
      "                  L7       0.6214569       0.1575772       3.9438253       0.0000802\n",
      "         L10 and L11       0.2619737       0.1780349       1.4714744       0.1411629\n",
      "                 L12       0.5571319       0.1359993       4.0965807       0.0000419\n",
      "     L14.1 and L14.2       0.6237665       0.1241119       5.0258373       0.0000005\n",
      "                 L15       0.3553343       0.0668009       5.3193052       0.0000001\n",
      "           W_dep_var       0.0086951       0.0067316       1.2916800       0.1964680\n",
      "------------------------------------------------------------------------------------\n",
      "Instrumented: W_dep_var\n",
      "Instruments: W_L10 and L11, W_L12, W_L14.1 and L14.2, W_L15, W_L7\n",
      "================================ END OF REPORT =====================================\n"
     ]
    }
   ],
   "source": [
    "w = KNN.from_dataframe(data, k=16)\n",
    "m3 = spreg.GM_Lag(y.values, X[variable_names].values, w=w, name_x = variable_names)\n",
    "print(m3.summary)"
   ]
  },
  {
   "cell_type": "code",
   "execution_count": 23,
   "metadata": {},
   "outputs": [
    {
     "data": {
      "text/plain": [
       "OLS    15.966395\n",
       "Lag    16.035451\n",
       "dtype: float64"
      ]
     },
     "execution_count": 23,
     "metadata": {},
     "output_type": "execute_result"
    }
   ],
   "source": [
    "from sklearn.metrics import mean_squared_error as mse\n",
    "\n",
    "mses = pd.Series({'OLS': mse(y, m1.predy.flatten()),\n",
    "                  'Lag': mse(y, m3.predy_e)\n",
    "                    })\n",
    "mses.sort_values()"
   ]
  },
  {
   "cell_type": "code",
   "execution_count": 24,
   "metadata": {},
   "outputs": [
    {
     "name": "stderr",
     "output_type": "stream",
     "text": [
      "C:\\Users\\1\\AppData\\Local\\Temp\\ipykernel_21452\\1027148540.py:4: UserWarning: The buffer_dist argument as been deprecated and will be removed in a future release. Buffer your results directly, if desired.\n",
      "  boundaries = ox.geocode_to_gdf(GM, buffer_dist=0)\n"
     ]
    },
    {
     "ename": "ImportError",
     "evalue": "The 'folium', 'matplotlib' and 'mapclassify' packages are required for 'explore()'. You can install them using 'conda install -c conda-forge folium matplotlib mapclassify' or 'pip install folium matplotlib mapclassify'.",
     "output_type": "error",
     "traceback": [
      "\u001b[1;31m---------------------------------------------------------------------------\u001b[0m",
      "\u001b[1;31mModuleNotFoundError\u001b[0m                       Traceback (most recent call last)",
      "File \u001b[1;32mc:\\Users\\1\\anaconda3\\lib\\site-packages\\geopandas\\explore.py:281\u001b[0m, in \u001b[0;36m_explore\u001b[1;34m(df, column, cmap, color, m, tiles, attr, tooltip, popup, highlight, categorical, legend, scheme, k, vmin, vmax, width, height, categories, classification_kwds, control_scale, marker_type, marker_kwds, style_kwds, highlight_kwds, missing_kwds, tooltip_kwds, popup_kwds, legend_kwds, map_kwds, **kwargs)\u001b[0m\n\u001b[0;32m    280\u001b[0m \u001b[39mtry\u001b[39;00m:\n\u001b[1;32m--> 281\u001b[0m     \u001b[39mimport\u001b[39;00m \u001b[39mbranca\u001b[39;00m \u001b[39mas\u001b[39;00m \u001b[39mbc\u001b[39;00m\n\u001b[0;32m    282\u001b[0m     \u001b[39mimport\u001b[39;00m \u001b[39mfolium\u001b[39;00m\n",
      "\u001b[1;31mModuleNotFoundError\u001b[0m: No module named 'branca'",
      "\nDuring handling of the above exception, another exception occurred:\n",
      "\u001b[1;31mImportError\u001b[0m                               Traceback (most recent call last)",
      "\u001b[1;32md:\\Dropbox\\UoM_PG\\Dissertation\\Code\\Spatial regression NS-SeC.ipynb Cell 8\u001b[0m line \u001b[0;36m<cell line: 7>\u001b[1;34m()\u001b[0m\n\u001b[0;32m      <a href='vscode-notebook-cell:/d%3A/Dropbox/UoM_PG/Dissertation/Code/Spatial%20regression%20NS-SeC.ipynb#X10sZmlsZQ%3D%3D?line=3'>4</a>\u001b[0m boundaries \u001b[39m=\u001b[39m ox\u001b[39m.\u001b[39mgeocode_to_gdf(GM, buffer_dist\u001b[39m=\u001b[39m\u001b[39m0\u001b[39m)\n\u001b[0;32m      <a href='vscode-notebook-cell:/d%3A/Dropbox/UoM_PG/Dissertation/Code/Spatial%20regression%20NS-SeC.ipynb#X10sZmlsZQ%3D%3D?line=5'>6</a>\u001b[0m \u001b[39m# Let's check the boundaries on a map\u001b[39;00m\n\u001b[1;32m----> <a href='vscode-notebook-cell:/d%3A/Dropbox/UoM_PG/Dissertation/Code/Spatial%20regression%20NS-SeC.ipynb#X10sZmlsZQ%3D%3D?line=6'>7</a>\u001b[0m boundaries\u001b[39m.\u001b[39;49mexplore()\n",
      "File \u001b[1;32mc:\\Users\\1\\anaconda3\\lib\\site-packages\\geopandas\\geodataframe.py:2101\u001b[0m, in \u001b[0;36mGeoDataFrame.explore\u001b[1;34m(self, *args, **kwargs)\u001b[0m\n\u001b[0;32m   2099\u001b[0m \u001b[39m@doc\u001b[39m(_explore)\n\u001b[0;32m   2100\u001b[0m \u001b[39mdef\u001b[39;00m \u001b[39mexplore\u001b[39m(\u001b[39mself\u001b[39m, \u001b[39m*\u001b[39margs, \u001b[39m*\u001b[39m\u001b[39m*\u001b[39mkwargs):\n\u001b[1;32m-> 2101\u001b[0m     \u001b[39mreturn\u001b[39;00m _explore(\u001b[39mself\u001b[39m, \u001b[39m*\u001b[39margs, \u001b[39m*\u001b[39m\u001b[39m*\u001b[39mkwargs)\n",
      "File \u001b[1;32mc:\\Users\\1\\anaconda3\\lib\\site-packages\\geopandas\\explore.py:297\u001b[0m, in \u001b[0;36m_explore\u001b[1;34m(df, column, cmap, color, m, tiles, attr, tooltip, popup, highlight, categorical, legend, scheme, k, vmin, vmax, width, height, categories, classification_kwds, control_scale, marker_type, marker_kwds, style_kwds, highlight_kwds, missing_kwds, tooltip_kwds, popup_kwds, legend_kwds, map_kwds, **kwargs)\u001b[0m\n\u001b[0;32m    294\u001b[0m         \u001b[39mimport\u001b[39;00m \u001b[39mmatplotlib\u001b[39;00m\u001b[39m.\u001b[39;00m\u001b[39mcm\u001b[39;00m \u001b[39mas\u001b[39;00m \u001b[39mcm\u001b[39;00m\n\u001b[0;32m    296\u001b[0m \u001b[39mexcept\u001b[39;00m (\u001b[39mImportError\u001b[39;00m, \u001b[39mModuleNotFoundError\u001b[39;00m):\n\u001b[1;32m--> 297\u001b[0m     \u001b[39mraise\u001b[39;00m \u001b[39mImportError\u001b[39;00m(\n\u001b[0;32m    298\u001b[0m         \u001b[39m\"\u001b[39m\u001b[39mThe \u001b[39m\u001b[39m'\u001b[39m\u001b[39mfolium\u001b[39m\u001b[39m'\u001b[39m\u001b[39m, \u001b[39m\u001b[39m'\u001b[39m\u001b[39mmatplotlib\u001b[39m\u001b[39m'\u001b[39m\u001b[39m and \u001b[39m\u001b[39m'\u001b[39m\u001b[39mmapclassify\u001b[39m\u001b[39m'\u001b[39m\u001b[39m packages are required for \u001b[39m\u001b[39m\"\u001b[39m\n\u001b[0;32m    299\u001b[0m         \u001b[39m\"\u001b[39m\u001b[39m'\u001b[39m\u001b[39mexplore()\u001b[39m\u001b[39m'\u001b[39m\u001b[39m. You can install them using \u001b[39m\u001b[39m\"\u001b[39m\n\u001b[0;32m    300\u001b[0m         \u001b[39m\"\u001b[39m\u001b[39m'\u001b[39m\u001b[39mconda install -c conda-forge folium matplotlib mapclassify\u001b[39m\u001b[39m'\u001b[39m\u001b[39m \u001b[39m\u001b[39m\"\u001b[39m\n\u001b[0;32m    301\u001b[0m         \u001b[39m\"\u001b[39m\u001b[39mor \u001b[39m\u001b[39m'\u001b[39m\u001b[39mpip install folium matplotlib mapclassify\u001b[39m\u001b[39m'\u001b[39m\u001b[39m.\u001b[39m\u001b[39m\"\u001b[39m\n\u001b[0;32m    302\u001b[0m     )\n\u001b[0;32m    304\u001b[0m \u001b[39m# xyservices is an optional dependency\u001b[39;00m\n\u001b[0;32m    305\u001b[0m \u001b[39mtry\u001b[39;00m:\n",
      "\u001b[1;31mImportError\u001b[0m: The 'folium', 'matplotlib' and 'mapclassify' packages are required for 'explore()'. You can install them using 'conda install -c conda-forge folium matplotlib mapclassify' or 'pip install folium matplotlib mapclassify'."
     ]
    }
   ],
   "source": [
    "GM = ['Manchester', 'Bolton', 'Bury (England)', 'Oldham (England)', 'Rochdale', 'Salford', 'Stockport', 'Tameside', 'Trafford', 'Wigan']\n",
    "\n",
    "# get the boundaries of the place (add additional buffer around the query)\n",
    "boundaries = ox.geocode_to_gdf(GM, buffer_dist=0)\n",
    "\n",
    "# Let's check the boundaries on a map\n",
    "boundaries.explore()"
   ]
  },
  {
   "cell_type": "code",
   "execution_count": null,
   "metadata": {},
   "outputs": [
    {
     "name": "stderr",
     "output_type": "stream",
     "text": [
      "g:\\Python\\Lib\\site-packages\\pyproj\\crs\\crs.py:141: FutureWarning: '+init=<authority>:<code>' syntax is deprecated. '<authority>:<code>' is the preferred initialization method. When making the change, be mindful of axis order changes: https://pyproj4.github.io/pyproj/stable/gotchas.html#axis-order-changes-in-proj-6\n",
      "  in_crs_string = _prepare_from_proj_string(in_crs_string)\n",
      "g:\\Python\\Lib\\site-packages\\pyproj\\crs\\crs.py:141: FutureWarning: '+init=<authority>:<code>' syntax is deprecated. '<authority>:<code>' is the preferred initialization method. When making the change, be mindful of axis order changes: https://pyproj4.github.io/pyproj/stable/gotchas.html#axis-order-changes-in-proj-6\n",
      "  in_crs_string = _prepare_from_proj_string(in_crs_string)\n",
      "C:\\Users\\11236\\AppData\\Local\\Temp\\ipykernel_36732\\3234474125.py:6: FutureWarning: This function is deprecated. See: https://pyproj4.github.io/pyproj/stable/gotchas.html#upgrading-to-pyproj-2-from-pyproj-1\n",
      "  data.iloc[i,17] = pyproj.transform(wgs84, bng, data.iloc[i,17], data.iloc[i,18])[1]\n",
      "C:\\Users\\11236\\AppData\\Local\\Temp\\ipykernel_36732\\3234474125.py:7: FutureWarning: This function is deprecated. See: https://pyproj4.github.io/pyproj/stable/gotchas.html#upgrading-to-pyproj-2-from-pyproj-1\n",
      "  data.iloc[i,18] = pyproj.transform(wgs84, bng, data.iloc[i,17], data.iloc[i,18])[2]\n"
     ]
    },
    {
     "ename": "IndexError",
     "evalue": "tuple index out of range",
     "output_type": "error",
     "traceback": [
      "\u001b[1;31m---------------------------------------------------------------------------\u001b[0m",
      "\u001b[1;31mIndexError\u001b[0m                                Traceback (most recent call last)",
      "Cell \u001b[1;32mIn[14], line 7\u001b[0m\n\u001b[0;32m      5\u001b[0m \u001b[39mfor\u001b[39;00m i \u001b[39min\u001b[39;00m \u001b[39mrange\u001b[39m(\u001b[39mlen\u001b[39m(data)):\n\u001b[0;32m      6\u001b[0m     data\u001b[39m.\u001b[39miloc[i,\u001b[39m17\u001b[39m] \u001b[39m=\u001b[39m pyproj\u001b[39m.\u001b[39mtransform(wgs84, bng, data\u001b[39m.\u001b[39miloc[i,\u001b[39m17\u001b[39m], data\u001b[39m.\u001b[39miloc[i,\u001b[39m18\u001b[39m])[\u001b[39m1\u001b[39m]\n\u001b[1;32m----> 7\u001b[0m     data\u001b[39m.\u001b[39miloc[i,\u001b[39m18\u001b[39m] \u001b[39m=\u001b[39m pyproj\u001b[39m.\u001b[39;49mtransform(wgs84, bng, data\u001b[39m.\u001b[39;49miloc[i,\u001b[39m17\u001b[39;49m], data\u001b[39m.\u001b[39;49miloc[i,\u001b[39m18\u001b[39;49m])[\u001b[39m2\u001b[39;49m]\n",
      "\u001b[1;31mIndexError\u001b[0m: tuple index out of range"
     ]
    }
   ],
   "source": [
    "import pyproj\n",
    "bng=pyproj.Proj(init='epsg:27700')\n",
    "wgs84 = pyproj.Proj(init='epsg:4326')\n",
    "\n",
    "for i in range(len(data)):\n",
    "    data.iloc[i,17] = pyproj.transform(wgs84, bng, data.iloc[i,17], data.iloc[i,18])[1]\n",
    "    data.iloc[i,18] = pyproj.transform(wgs84, bng, data.iloc[i,17], data.iloc[i,18])[2]"
   ]
  },
  {
   "cell_type": "code",
   "execution_count": null,
   "metadata": {},
   "outputs": [
    {
     "ename": "KeyError",
     "evalue": "'x'",
     "output_type": "error",
     "traceback": [
      "\u001b[1;31m---------------------------------------------------------------------------\u001b[0m",
      "\u001b[1;31mKeyError\u001b[0m                                  Traceback (most recent call last)",
      "File \u001b[1;32mg:\\Python\\Lib\\site-packages\\pandas\\core\\indexes\\base.py:3652\u001b[0m, in \u001b[0;36mIndex.get_loc\u001b[1;34m(self, key)\u001b[0m\n\u001b[0;32m   3651\u001b[0m \u001b[39mtry\u001b[39;00m:\n\u001b[1;32m-> 3652\u001b[0m     \u001b[39mreturn\u001b[39;00m \u001b[39mself\u001b[39;49m\u001b[39m.\u001b[39;49m_engine\u001b[39m.\u001b[39;49mget_loc(casted_key)\n\u001b[0;32m   3653\u001b[0m \u001b[39mexcept\u001b[39;00m \u001b[39mKeyError\u001b[39;00m \u001b[39mas\u001b[39;00m err:\n",
      "File \u001b[1;32mg:\\Python\\Lib\\site-packages\\pandas\\_libs\\index.pyx:147\u001b[0m, in \u001b[0;36mpandas._libs.index.IndexEngine.get_loc\u001b[1;34m()\u001b[0m\n",
      "File \u001b[1;32mg:\\Python\\Lib\\site-packages\\pandas\\_libs\\index.pyx:176\u001b[0m, in \u001b[0;36mpandas._libs.index.IndexEngine.get_loc\u001b[1;34m()\u001b[0m\n",
      "File \u001b[1;32mpandas\\_libs\\hashtable_class_helper.pxi:7080\u001b[0m, in \u001b[0;36mpandas._libs.hashtable.PyObjectHashTable.get_item\u001b[1;34m()\u001b[0m\n",
      "File \u001b[1;32mpandas\\_libs\\hashtable_class_helper.pxi:7088\u001b[0m, in \u001b[0;36mpandas._libs.hashtable.PyObjectHashTable.get_item\u001b[1;34m()\u001b[0m\n",
      "\u001b[1;31mKeyError\u001b[0m: 'x'",
      "\nThe above exception was the direct cause of the following exception:\n",
      "\u001b[1;31mKeyError\u001b[0m                                  Traceback (most recent call last)",
      "Cell \u001b[1;32mIn[8], line 1\u001b[0m\n\u001b[1;32m----> 1\u001b[0m data[\u001b[39m\"\u001b[39m\u001b[39mgeometry\u001b[39m\u001b[39m\"\u001b[39m] \u001b[39m=\u001b[39m gpd\u001b[39m.\u001b[39mpoints_from_xy(data[\u001b[39m\"\u001b[39;49m\u001b[39mx\u001b[39;49m\u001b[39m\"\u001b[39;49m], data[\u001b[39m\"\u001b[39m\u001b[39my\u001b[39m\u001b[39m\"\u001b[39m])\n\u001b[0;32m      2\u001b[0m \u001b[39mprint\u001b[39m(data)\n\u001b[0;32m      3\u001b[0m weights\u001b[39m.\u001b[39mQueen \u001b[39m=\u001b[39m weights\u001b[39m.\u001b[39mQueen\u001b[39m.\u001b[39mfrom_dataframe(data)\n",
      "File \u001b[1;32mg:\\Python\\Lib\\site-packages\\pandas\\core\\frame.py:3761\u001b[0m, in \u001b[0;36mDataFrame.__getitem__\u001b[1;34m(self, key)\u001b[0m\n\u001b[0;32m   3759\u001b[0m \u001b[39mif\u001b[39;00m \u001b[39mself\u001b[39m\u001b[39m.\u001b[39mcolumns\u001b[39m.\u001b[39mnlevels \u001b[39m>\u001b[39m \u001b[39m1\u001b[39m:\n\u001b[0;32m   3760\u001b[0m     \u001b[39mreturn\u001b[39;00m \u001b[39mself\u001b[39m\u001b[39m.\u001b[39m_getitem_multilevel(key)\n\u001b[1;32m-> 3761\u001b[0m indexer \u001b[39m=\u001b[39m \u001b[39mself\u001b[39;49m\u001b[39m.\u001b[39;49mcolumns\u001b[39m.\u001b[39;49mget_loc(key)\n\u001b[0;32m   3762\u001b[0m \u001b[39mif\u001b[39;00m is_integer(indexer):\n\u001b[0;32m   3763\u001b[0m     indexer \u001b[39m=\u001b[39m [indexer]\n",
      "File \u001b[1;32mg:\\Python\\Lib\\site-packages\\pandas\\core\\indexes\\base.py:3654\u001b[0m, in \u001b[0;36mIndex.get_loc\u001b[1;34m(self, key)\u001b[0m\n\u001b[0;32m   3652\u001b[0m     \u001b[39mreturn\u001b[39;00m \u001b[39mself\u001b[39m\u001b[39m.\u001b[39m_engine\u001b[39m.\u001b[39mget_loc(casted_key)\n\u001b[0;32m   3653\u001b[0m \u001b[39mexcept\u001b[39;00m \u001b[39mKeyError\u001b[39;00m \u001b[39mas\u001b[39;00m err:\n\u001b[1;32m-> 3654\u001b[0m     \u001b[39mraise\u001b[39;00m \u001b[39mKeyError\u001b[39;00m(key) \u001b[39mfrom\u001b[39;00m \u001b[39merr\u001b[39;00m\n\u001b[0;32m   3655\u001b[0m \u001b[39mexcept\u001b[39;00m \u001b[39mTypeError\u001b[39;00m:\n\u001b[0;32m   3656\u001b[0m     \u001b[39m# If we have a listlike key, _check_indexing_error will raise\u001b[39;00m\n\u001b[0;32m   3657\u001b[0m     \u001b[39m#  InvalidIndexError. Otherwise we fall through and re-raise\u001b[39;00m\n\u001b[0;32m   3658\u001b[0m     \u001b[39m#  the TypeError.\u001b[39;00m\n\u001b[0;32m   3659\u001b[0m     \u001b[39mself\u001b[39m\u001b[39m.\u001b[39m_check_indexing_error(key)\n",
      "\u001b[1;31mKeyError\u001b[0m: 'x'"
     ]
    }
   ],
   "source": [
    "\n",
    "\n",
    "data[\"x\",\"y\"] = pyproj.transform(wgs84, bng, , -2.741771)\n",
    "\n",
    "\n",
    "data[\"geometry\"] = gpd.points_from_xy(data[\"x\"], data[\"y\"])\n",
    "print(data)\n",
    "weights.Queen = weights.Queen.from_dataframe(data)\n",
    "\n",
    "\n",
    "#data = gpd.GeoDataFrame(data)\n",
    "#print(data)\n",
    "# Filter data geographically\n",
    "#data = gpd.sjoin(data, boundaries[[\"geometry\"]])\n",
    "#data = data.reset_index(drop=True)\n",
    "\n",
    "# Check the first rows\n"
   ]
  },
  {
   "cell_type": "code",
   "execution_count": null,
   "metadata": {},
   "outputs": [
    {
     "ename": "AttributeError",
     "evalue": "'DataFrame' object has no attribute 'geometry'",
     "output_type": "error",
     "traceback": [
      "\u001b[1;31m---------------------------------------------------------------------------\u001b[0m",
      "\u001b[1;31mAttributeError\u001b[0m                            Traceback (most recent call last)",
      "Cell \u001b[1;32mIn[49], line 1\u001b[0m\n\u001b[1;32m----> 1\u001b[0m weights\u001b[39m.\u001b[39mQueen \u001b[39m=\u001b[39m weights\u001b[39m.\u001b[39;49mQueen\u001b[39m.\u001b[39;49mfrom_dataframe(data)\n\u001b[0;32m      2\u001b[0m \u001b[39m# Assign spatial lag based on the pool values\u001b[39;00m\n",
      "File \u001b[1;32mg:\\Python\\Lib\\site-packages\\libpysal\\weights\\contiguity.py:396\u001b[0m, in \u001b[0;36mQueen.from_dataframe\u001b[1;34m(cls, df, geom_col, **kwargs)\u001b[0m\n\u001b[0;32m    394\u001b[0m id_order \u001b[39m=\u001b[39m kwargs\u001b[39m.\u001b[39mpop(\u001b[39m\"\u001b[39m\u001b[39mid_order\u001b[39m\u001b[39m\"\u001b[39m, \u001b[39mNone\u001b[39;00m)\n\u001b[0;32m    395\u001b[0m \u001b[39mif\u001b[39;00m geom_col \u001b[39mis\u001b[39;00m \u001b[39mNone\u001b[39;00m:\n\u001b[1;32m--> 396\u001b[0m     geom_col \u001b[39m=\u001b[39m df\u001b[39m.\u001b[39;49mgeometry\u001b[39m.\u001b[39mname\n\u001b[0;32m    397\u001b[0m \u001b[39mif\u001b[39;00m id_order \u001b[39mis\u001b[39;00m \u001b[39mnot\u001b[39;00m \u001b[39mNone\u001b[39;00m:\n\u001b[0;32m    398\u001b[0m     \u001b[39mif\u001b[39;00m id_order \u001b[39mis\u001b[39;00m \u001b[39mTrue\u001b[39;00m \u001b[39mand\u001b[39;00m ((idVariable \u001b[39mis\u001b[39;00m \u001b[39mnot\u001b[39;00m \u001b[39mNone\u001b[39;00m) \u001b[39mor\u001b[39;00m (ids \u001b[39mis\u001b[39;00m \u001b[39mnot\u001b[39;00m \u001b[39mNone\u001b[39;00m)):\n\u001b[0;32m    399\u001b[0m         \u001b[39m# if idVariable is None, we want ids. Otherwise, we want the\u001b[39;00m\n\u001b[0;32m    400\u001b[0m         \u001b[39m# idVariable column\u001b[39;00m\n",
      "File \u001b[1;32mg:\\Python\\Lib\\site-packages\\pandas\\core\\generic.py:5989\u001b[0m, in \u001b[0;36mNDFrame.__getattr__\u001b[1;34m(self, name)\u001b[0m\n\u001b[0;32m   5982\u001b[0m \u001b[39mif\u001b[39;00m (\n\u001b[0;32m   5983\u001b[0m     name \u001b[39mnot\u001b[39;00m \u001b[39min\u001b[39;00m \u001b[39mself\u001b[39m\u001b[39m.\u001b[39m_internal_names_set\n\u001b[0;32m   5984\u001b[0m     \u001b[39mand\u001b[39;00m name \u001b[39mnot\u001b[39;00m \u001b[39min\u001b[39;00m \u001b[39mself\u001b[39m\u001b[39m.\u001b[39m_metadata\n\u001b[0;32m   5985\u001b[0m     \u001b[39mand\u001b[39;00m name \u001b[39mnot\u001b[39;00m \u001b[39min\u001b[39;00m \u001b[39mself\u001b[39m\u001b[39m.\u001b[39m_accessors\n\u001b[0;32m   5986\u001b[0m     \u001b[39mand\u001b[39;00m \u001b[39mself\u001b[39m\u001b[39m.\u001b[39m_info_axis\u001b[39m.\u001b[39m_can_hold_identifiers_and_holds_name(name)\n\u001b[0;32m   5987\u001b[0m ):\n\u001b[0;32m   5988\u001b[0m     \u001b[39mreturn\u001b[39;00m \u001b[39mself\u001b[39m[name]\n\u001b[1;32m-> 5989\u001b[0m \u001b[39mreturn\u001b[39;00m \u001b[39mobject\u001b[39;49m\u001b[39m.\u001b[39;49m\u001b[39m__getattribute__\u001b[39;49m(\u001b[39mself\u001b[39;49m, name)\n",
      "\u001b[1;31mAttributeError\u001b[0m: 'DataFrame' object has no attribute 'geometry'"
     ]
    }
   ],
   "source": [
    "weights.Queen = weights.Queen.from_dataframe(data)\n",
    "# Assign spatial lag based on the pool values\n",
    "\n"
   ]
  }
 ],
 "metadata": {
  "kernelspec": {
   "display_name": "Python 3",
   "language": "python",
   "name": "python3"
  },
  "language_info": {
   "codemirror_mode": {
    "name": "ipython",
    "version": 3
   },
   "file_extension": ".py",
   "mimetype": "text/x-python",
   "name": "python",
   "nbconvert_exporter": "python",
   "pygments_lexer": "ipython3",
   "version": "3.9.12"
  },
  "orig_nbformat": 4
 },
 "nbformat": 4,
 "nbformat_minor": 2
}
