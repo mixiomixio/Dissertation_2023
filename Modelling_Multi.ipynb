{
 "cells": [
  {
   "cell_type": "code",
   "execution_count": 48,
   "metadata": {},
   "outputs": [
    {
     "name": "stdout",
     "output_type": "stream",
     "text": [
      "0      0.530421\n",
      "2      2.221004\n",
      "3      5.777008\n",
      "4      4.780220\n",
      "5      1.682692\n",
      "         ...   \n",
      "341    3.485086\n",
      "342    3.698311\n",
      "343    4.858412\n",
      "344    2.682990\n",
      "345    3.105590\n",
      "Name: deprived in three, Length: 323, dtype: float64\n",
      "0      27.681307\n",
      "2      17.326969\n",
      "3      13.921360\n",
      "4       9.510619\n",
      "5      18.564356\n",
      "         ...    \n",
      "341    12.708102\n",
      "342    15.738375\n",
      "343     9.280742\n",
      "344    20.750738\n",
      "345    18.285173\n",
      "Name: L1 L2 and L3, Length: 323, dtype: float64\n",
      "     deprived in three  L1 L2 and L3\n",
      "0             0.530421     27.681307\n",
      "2             2.221004     17.326969\n",
      "3             5.777008     13.921360\n",
      "4             4.780220      9.510619\n",
      "5             1.682692     18.564356\n",
      "..                 ...           ...\n",
      "341           3.485086     12.708102\n",
      "342           3.698311     15.738375\n",
      "343           4.858412      9.280742\n",
      "344           2.682990     20.750738\n",
      "345           3.105590     18.285173\n",
      "\n",
      "[323 rows x 2 columns]\n"
     ]
    }
   ],
   "source": [
    "from pysal.model import spreg\n",
    "import pandas as pd\n",
    "\n",
    "data = pd.read_csv(\"!Arc.csv\")\n",
    "data = data.dropna()\n",
    "\n",
    "\n",
    "\n",
    "X = data['deprived in three']\n",
    "print(X)\n",
    "X1 = data['L1 L2 and L3']\n",
    "print(X1)\n",
    "\n",
    "X_train = pd.concat([X,X1], axis=1)\n",
    "y = data.iloc[:,3]\n",
    "print(X_train)\n",
    "#print(y)"
   ]
  },
  {
   "cell_type": "code",
   "execution_count": 47,
   "metadata": {},
   "outputs": [
    {
     "name": "stdout",
     "output_type": "stream",
     "text": [
      "8.425925902308508\n",
      "6.981638787889896\n",
      "4.746992436384676\n",
      "3.4862934559392054\n",
      "2.3450750800949343\n",
      "2.067093121453053\n",
      "1.5274287844290075\n",
      "             feature       VIF\n",
      "0  deprived in three  1.527429\n",
      "1       L1 L2 and L3  1.527429\n"
     ]
    }
   ],
   "source": [
    "from patsy import dmatrices\n",
    "import statsmodels.api as sm\n",
    "from statsmodels.stats.outliers_influence import variance_inflation_factor\n",
    "import numpy as np\n",
    "\n",
    "min = 999\n",
    "mini = 0\n",
    "minj = 0\n",
    "#df = data.iloc[:,8:]\n",
    "for i in range(4):\n",
    "    for j in range(8):\n",
    "        A = data.iloc[:,18+i]\n",
    "        B = data.iloc[:,8+j]\n",
    "        df = pd.concat([A, B], axis=1)\n",
    "        name = df.columns\n",
    "        QW = np.matrix(df)\n",
    "        VIF_list = [variance_inflation_factor(QW, i) for i in range(QW.shape[1])]\n",
    "        max_VIF = max(VIF_list)\n",
    "        if max_VIF < min:\n",
    "            mini = i\n",
    "            minj = j\n",
    "            min = max_VIF\n",
    "            print(min)\n",
    "\n",
    "A = data.iloc[:,18+mini]\n",
    "B = data.iloc[:,8+minj]\n",
    "df = pd.concat([A, B], axis=1)\n",
    "name = df.columns\n",
    "QW = np.matrix(df)\n",
    "VIF_list = [variance_inflation_factor(QW, i) for i in range(QW.shape[1])]\n",
    "VIF = pd.DataFrame({'feature':name,\"VIF\":VIF_list})\n",
    "print(VIF)\n",
    "        "
   ]
  },
  {
   "cell_type": "code",
   "execution_count": 49,
   "metadata": {},
   "outputs": [
    {
     "name": "stdout",
     "output_type": "stream",
     "text": [
      "REGRESSION\n",
      "----------\n",
      "SUMMARY OF OUTPUT: ORDINARY LEAST SQUARES\n",
      "-----------------------------------------\n",
      "Data set            :     unknown\n",
      "Weights matrix      :        None\n",
      "Dependent Variable  :     dep_var                Number of Observations:         323\n",
      "Mean dependent var  :     10.3221                Number of Variables   :           3\n",
      "S.D. dependent var  :      2.8577                Degrees of Freedom    :         320\n",
      "R-squared           :      0.4494\n",
      "Adjusted R-squared  :      0.4460\n",
      "Sum squared residual:    1447.810                F-statistic           :    130.5985\n",
      "Sigma-square        :       4.524                Prob(F-statistic)     :   3.406e-42\n",
      "S.E. of regression  :       2.127                Log likelihood        :    -700.592\n",
      "Sigma-square ML     :       4.482                Akaike info criterion :    1407.184\n",
      "S.E of regression ML:      2.1172                Schwarz criterion     :    1418.517\n",
      "\n",
      "------------------------------------------------------------------------------------\n",
      "            Variable     Coefficient       Std.Error     t-Statistic     Probability\n",
      "------------------------------------------------------------------------------------\n",
      "            CONSTANT      12.1650686       0.6567610      18.5228257       0.0000000\n",
      "                 HDI       0.1756620       0.0715814       2.4540162       0.0146596\n",
      "              NS-SeC      -0.1767950       0.0217220      -8.1389821       0.0000000\n",
      "------------------------------------------------------------------------------------\n",
      "\n",
      "REGRESSION DIAGNOSTICS\n",
      "MULTICOLLINEARITY CONDITION NUMBER           11.309\n",
      "\n",
      "TEST ON NORMALITY OF ERRORS\n",
      "TEST                             DF        VALUE           PROB\n",
      "Jarque-Bera                       2          12.269           0.0022\n",
      "\n",
      "DIAGNOSTICS FOR HETEROSKEDASTICITY\n",
      "RANDOM COEFFICIENTS\n",
      "TEST                             DF        VALUE           PROB\n",
      "Breusch-Pagan test                2           3.641           0.1620\n",
      "Koenker-Bassett test              2           2.571           0.2765\n",
      "================================ END OF REPORT =====================================\n"
     ]
    }
   ],
   "source": [
    "m1 = spreg.OLS(\n",
    "    # Dependent variable\n",
    "    y.values,\n",
    "    # Independent variables\n",
    "    X_train.values,\n",
    "    # Dependent variable name\n",
    "    # Independent variable name\n",
    "    name_x=['HDI', 'NS-SeC']\n",
    ")\n",
    "\n",
    "print(m1.summary)"
   ]
  },
  {
   "cell_type": "code",
   "execution_count": 50,
   "metadata": {},
   "outputs": [
    {
     "name": "stderr",
     "output_type": "stream",
     "text": [
      "c:\\Users\\1\\anaconda3\\lib\\site-packages\\pyproj\\crs\\crs.py:141: FutureWarning: '+init=<authority>:<code>' syntax is deprecated. '<authority>:<code>' is the preferred initialization method. When making the change, be mindful of axis order changes: https://pyproj4.github.io/pyproj/stable/gotchas.html#axis-order-changes-in-proj-6\n",
      "  in_crs_string = _prepare_from_proj_string(in_crs_string)\n",
      "c:\\Users\\1\\anaconda3\\lib\\site-packages\\pyproj\\crs\\crs.py:141: FutureWarning: '+init=<authority>:<code>' syntax is deprecated. '<authority>:<code>' is the preferred initialization method. When making the change, be mindful of axis order changes: https://pyproj4.github.io/pyproj/stable/gotchas.html#axis-order-changes-in-proj-6\n",
      "  in_crs_string = _prepare_from_proj_string(in_crs_string)\n",
      "C:\\Users\\1\\AppData\\Local\\Temp\\ipykernel_2156\\138041753.py:8: FutureWarning: This function is deprecated. See: https://pyproj4.github.io/pyproj/stable/gotchas.html#upgrading-to-pyproj-2-from-pyproj-1\n",
      "  GEO.iloc[i,12] = pyproj.transform(bng, wgs84, GEO.iloc[i,12], GEO.iloc[i,13])[0]\n",
      "C:\\Users\\1\\AppData\\Local\\Temp\\ipykernel_2156\\138041753.py:9: FutureWarning: This function is deprecated. See: https://pyproj4.github.io/pyproj/stable/gotchas.html#upgrading-to-pyproj-2-from-pyproj-1\n",
      "  GEO.iloc[i,13] = pyproj.transform(bng, wgs84, GEO.iloc[i,12], GEO.iloc[i,13])[1]\n"
     ]
    },
    {
     "name": "stdout",
     "output_type": "stream",
     "text": [
      "REGRESSION\n",
      "----------\n",
      "SUMMARY OF OUTPUT: SPATIAL TWO STAGE LEAST SQUARES\n",
      "--------------------------------------------------\n",
      "Data set            :     unknown\n",
      "Weights matrix      :     unknown\n",
      "Dependent Variable  :     dep_var                Number of Observations:         323\n",
      "Mean dependent var  :     10.3221                Number of Variables   :           4\n",
      "S.D. dependent var  :      2.8577                Degrees of Freedom    :         319\n",
      "Pseudo R-squared    :      0.4582\n",
      "Spatial Pseudo R-squared:  0.4496\n",
      "\n",
      "------------------------------------------------------------------------------------\n",
      "            Variable     Coefficient       Std.Error     z-Statistic     Probability\n",
      "------------------------------------------------------------------------------------\n",
      "            CONSTANT      11.0946356       2.0041199       5.5359141       0.0000000\n",
      "                 HDI       0.1862685       0.0731360       2.5468785       0.0108691\n",
      "              NS-SeC      -0.1651348       0.0297781      -5.5455205       0.0000000\n",
      "           W_dep_var       0.0100968       0.0178867       0.5644858       0.5724235\n",
      "------------------------------------------------------------------------------------\n",
      "Instrumented: W_dep_var\n",
      "Instruments: W_HDI, W_NS-SeC\n",
      "================================ END OF REPORT =====================================\n"
     ]
    }
   ],
   "source": [
    "import pyproj\n",
    "bng=pyproj.Proj(init='epsg:27700')\n",
    "wgs84 = pyproj.Proj(init='epsg:4326')\n",
    "GEO = pd.read_csv(\"!Dep_fixed1.csv\")\n",
    "GEO = GEO.dropna()\n",
    "\n",
    "for i in  range(len(GEO)):\n",
    "    GEO.iloc[i,12] = pyproj.transform(bng, wgs84, GEO.iloc[i,12], GEO.iloc[i,13])[0]\n",
    "    GEO.iloc[i,13] = pyproj.transform(bng, wgs84, GEO.iloc[i,12], GEO.iloc[i,13])[1]\n",
    "\n",
    "from libpysal.weights import KNN\n",
    "import geopandas as gpd\n",
    "GEO[\"geometry\"] = gpd.points_from_xy(GEO['x'], GEO['y'])"
   ]
  },
  {
   "cell_type": "code",
   "execution_count": 76,
   "metadata": {},
   "outputs": [
    {
     "name": "stdout",
     "output_type": "stream",
     "text": [
      "REGRESSION\n",
      "----------\n",
      "SUMMARY OF OUTPUT: SPATIAL TWO STAGE LEAST SQUARES\n",
      "--------------------------------------------------\n",
      "Data set            :     unknown\n",
      "Weights matrix      :     unknown\n",
      "Dependent Variable  :     dep_var                Number of Observations:         323\n",
      "Mean dependent var  :     10.3221                Number of Variables   :           4\n",
      "S.D. dependent var  :      2.8577                Degrees of Freedom    :         319\n",
      "Pseudo R-squared    :      0.4659\n",
      "Spatial Pseudo R-squared:  0.4518\n",
      "\n",
      "------------------------------------------------------------------------------------\n",
      "            Variable     Coefficient       Std.Error     z-Statistic     Probability\n",
      "------------------------------------------------------------------------------------\n",
      "            CONSTANT       9.8358252       1.8143363       5.4211698       0.0000001\n",
      "                 HDI       0.1987629       0.0721608       2.7544446       0.0058792\n",
      "              NS-SeC      -0.1472626       0.0302654      -4.8657055       0.0000011\n",
      "           W_dep_var       0.0570723       0.0415626       1.3731647       0.1697011\n",
      "------------------------------------------------------------------------------------\n",
      "Instrumented: W_dep_var\n",
      "Instruments: W_HDI, W_NS-SeC\n",
      "================================ END OF REPORT =====================================\n"
     ]
    }
   ],
   "source": [
    "w = KNN.from_dataframe(GEO, k=3)\n",
    "m3 = spreg.GM_Lag(y.values, X_train.values, w=w, name_x =['HDI', 'NS-SeC'])\n",
    "print(m3.summary)"
   ]
  },
  {
   "cell_type": "code",
   "execution_count": 77,
   "metadata": {},
   "outputs": [
    {
     "data": {
      "text/plain": [
       "Lag    4.463962\n",
       "OLS    4.482383\n",
       "dtype: float64"
      ]
     },
     "execution_count": 77,
     "metadata": {},
     "output_type": "execute_result"
    }
   ],
   "source": [
    "from sklearn.metrics import mean_squared_error as mse\n",
    "\n",
    "mses = pd.Series({'OLS': mse(y, m1.predy.flatten()),\n",
    "                  'Lag': mse(y, m3.predy_e)\n",
    "                    })\n",
    "mses.sort_values()"
   ]
  }
 ],
 "metadata": {
  "kernelspec": {
   "display_name": "base",
   "language": "python",
   "name": "python3"
  },
  "language_info": {
   "codemirror_mode": {
    "name": "ipython",
    "version": 3
   },
   "file_extension": ".py",
   "mimetype": "text/x-python",
   "name": "python",
   "nbconvert_exporter": "python",
   "pygments_lexer": "ipython3",
   "version": "3.9.12"
  },
  "orig_nbformat": 4
 },
 "nbformat": 4,
 "nbformat_minor": 2
}
