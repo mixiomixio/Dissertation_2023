{
 "cells": [
  {
   "cell_type": "code",
   "execution_count": 17,
   "metadata": {},
   "outputs": [],
   "source": [
    "from pysal.model import spreg\n",
    "import pandas as pd\n",
    "import geopandas as gpd\n",
    "import seaborn as sns\n",
    "import osmnx as ox\n",
    "\n",
    "from libpysal.weights import lat2W\n",
    "from libpysal import weights\n",
    "sns.set(style=\"whitegrid\")"
   ]
  },
  {
   "cell_type": "code",
   "execution_count": 18,
   "metadata": {},
   "outputs": [],
   "source": [
    "data = pd.read_csv(\"!Dep_fixed1.csv\")\n",
    "data.columns\n",
    "\n",
    "data = data.dropna()"
   ]
  },
  {
   "cell_type": "code",
   "execution_count": 19,
   "metadata": {},
   "outputs": [],
   "source": [
    "X = data.iloc[:,6:12]\n",
    "y = data.iloc[:,5]\n",
    "\n",
    "#X = X.fillna(X.mean())\n",
    "#y = y.fillna(y.mean())\n",
    "\n",
    "X['not deprived'] = X['not deprived']/X['All households']*100\n",
    "X['deprived in one'] = X['deprived in one']/X['All households']*100\n",
    "X['deprived in two'] = X['deprived in two']/X['All households']*100\n",
    "X['deprived in three'] = X['deprived in three']/X['All households']*100\n",
    "X['deprived in four'] = X['deprived in four']/X['All households']*100\n",
    "\n",
    "#X = X.iloc[:,1:]\n",
    "#print(X)\n",
    "#print(y)"
   ]
  },
  {
   "cell_type": "code",
   "execution_count": 20,
   "metadata": {},
   "outputs": [
    {
     "name": "stdout",
     "output_type": "stream",
     "text": [
      "REGRESSION\n",
      "----------\n",
      "SUMMARY OF OUTPUT: ORDINARY LEAST SQUARES\n",
      "-----------------------------------------\n",
      "Data set            :     unknown\n",
      "Weights matrix      :        None\n",
      "Dependent Variable  :     dep_var                Number of Observations:         323\n",
      "Mean dependent var  :     37.3657                Number of Variables   :           3\n",
      "S.D. dependent var  :      6.1969                Degrees of Freedom    :         320\n",
      "R-squared           :      0.3842\n",
      "Adjusted R-squared  :      0.3804\n",
      "Sum squared residual:    7614.447                F-statistic           :     99.8243\n",
      "Sigma-square        :      23.795                Prob(F-statistic)     :   2.044e-34\n",
      "S.E. of regression  :       4.878                Log likelihood        :    -968.681\n",
      "Sigma-square ML     :      23.574                Akaike info criterion :    1943.363\n",
      "S.E of regression ML:      4.8553                Schwarz criterion     :    1954.696\n",
      "\n",
      "------------------------------------------------------------------------------------\n",
      "            Variable     Coefficient       Std.Error     t-Statistic     Probability\n",
      "------------------------------------------------------------------------------------\n",
      "            CONSTANT      -1.3395128       4.2390779      -0.3159916       0.7522149\n",
      "     deprived in one       1.0890811       0.1326158       8.2123053       0.0000000\n",
      "    deprived in four       9.3316324       1.5387622       6.0643757       0.0000000\n",
      "------------------------------------------------------------------------------------\n",
      "\n",
      "REGRESSION DIAGNOSTICS\n",
      "MULTICOLLINEARITY CONDITION NUMBER           37.344\n",
      "\n",
      "TEST ON NORMALITY OF ERRORS\n",
      "TEST                             DF        VALUE           PROB\n",
      "Jarque-Bera                       2           0.188           0.9105\n",
      "\n",
      "DIAGNOSTICS FOR HETEROSKEDASTICITY\n",
      "RANDOM COEFFICIENTS\n",
      "TEST                             DF        VALUE           PROB\n",
      "Breusch-Pagan test                2           7.829           0.0199\n",
      "Koenker-Bassett test              2           7.760           0.0207\n",
      "================================ END OF REPORT =====================================\n"
     ]
    }
   ],
   "source": [
    "variable_names = [\n",
    "    #\"not deprived\",\n",
    "    \"deprived in one\",\n",
    "    #\"deprived in two\",\n",
    "    #\"deprived in three\",\n",
    "    \"deprived in four\"\n",
    "    ]\n",
    "\n",
    "m1 = spreg.OLS(y.values, X[variable_names].values, name_x=variable_names,)\n",
    "print(m1.summary)"
   ]
  },
  {
   "cell_type": "code",
   "execution_count": 21,
   "metadata": {},
   "outputs": [
    {
     "name": "stderr",
     "output_type": "stream",
     "text": [
      "c:\\Users\\1\\anaconda3\\lib\\site-packages\\pyproj\\crs\\crs.py:141: FutureWarning: '+init=<authority>:<code>' syntax is deprecated. '<authority>:<code>' is the preferred initialization method. When making the change, be mindful of axis order changes: https://pyproj4.github.io/pyproj/stable/gotchas.html#axis-order-changes-in-proj-6\n",
      "  in_crs_string = _prepare_from_proj_string(in_crs_string)\n",
      "c:\\Users\\1\\anaconda3\\lib\\site-packages\\pyproj\\crs\\crs.py:141: FutureWarning: '+init=<authority>:<code>' syntax is deprecated. '<authority>:<code>' is the preferred initialization method. When making the change, be mindful of axis order changes: https://pyproj4.github.io/pyproj/stable/gotchas.html#axis-order-changes-in-proj-6\n",
      "  in_crs_string = _prepare_from_proj_string(in_crs_string)\n",
      "C:\\Users\\1\\AppData\\Local\\Temp\\ipykernel_19248\\2512082250.py:6: FutureWarning: This function is deprecated. See: https://pyproj4.github.io/pyproj/stable/gotchas.html#upgrading-to-pyproj-2-from-pyproj-1\n",
      "  data.iloc[i,12] = pyproj.transform(bng, wgs84, data.iloc[i,12], data.iloc[i,13])[0]\n",
      "C:\\Users\\1\\AppData\\Local\\Temp\\ipykernel_19248\\2512082250.py:7: FutureWarning: This function is deprecated. See: https://pyproj4.github.io/pyproj/stable/gotchas.html#upgrading-to-pyproj-2-from-pyproj-1\n",
      "  data.iloc[i,13] = pyproj.transform(bng, wgs84, data.iloc[i,12], data.iloc[i,13])[1]\n"
     ]
    }
   ],
   "source": [
    "import pyproj\n",
    "bng=pyproj.Proj(init='epsg:27700')\n",
    "wgs84 = pyproj.Proj(init='epsg:4326')\n",
    "\n",
    "for i in  range(len(data)):\n",
    "    data.iloc[i,12] = pyproj.transform(bng, wgs84, data.iloc[i,12], data.iloc[i,13])[0]\n",
    "    data.iloc[i,13] = pyproj.transform(bng, wgs84, data.iloc[i,12], data.iloc[i,13])[1]\n",
    "\n",
    "from libpysal.weights import KNN\n",
    "data[\"geometry\"] = gpd.points_from_xy(data['x'], data['y'])\n",
    "\n",
    "w = KNN.from_dataframe(data, k=5)"
   ]
  },
  {
   "cell_type": "code",
   "execution_count": 22,
   "metadata": {},
   "outputs": [
    {
     "name": "stdout",
     "output_type": "stream",
     "text": [
      "REGRESSION\n",
      "----------\n",
      "SUMMARY OF OUTPUT: SPATIAL TWO STAGE LEAST SQUARES\n",
      "--------------------------------------------------\n",
      "Data set            :     unknown\n",
      "Weights matrix      :     unknown\n",
      "Dependent Variable  :     dep_var                Number of Observations:         323\n",
      "Mean dependent var  :     37.3657                Number of Variables   :           4\n",
      "S.D. dependent var  :      6.1969                Degrees of Freedom    :         319\n",
      "Pseudo R-squared    :      0.4183\n",
      "Spatial Pseudo R-squared:  0.3853\n",
      "\n",
      "------------------------------------------------------------------------------------\n",
      "            Variable     Coefficient       Std.Error     z-Statistic     Probability\n",
      "------------------------------------------------------------------------------------\n",
      "            CONSTANT      -4.3027208       5.0148981      -0.8579877       0.3908993\n",
      "     deprived in one       1.0064934       0.1514407       6.6461217       0.0000000\n",
      "    deprived in four       8.8694208       1.5557321       5.7011235       0.0000000\n",
      "           W_dep_var       0.0193450       0.0188269       1.0275196       0.3041759\n",
      "------------------------------------------------------------------------------------\n",
      "Instrumented: W_dep_var\n",
      "Instruments: W_deprived in four, W_deprived in one\n",
      "================================ END OF REPORT =====================================\n"
     ]
    }
   ],
   "source": [
    "#gg = lat2W(173,2)\n",
    "w = KNN.from_dataframe(data, k=8)\n",
    "\n",
    "m3 = spreg.GM_Lag(y.values, X[variable_names].values, w=w, name_x = variable_names)\n",
    "print(m3.summary)"
   ]
  },
  {
   "cell_type": "code",
   "execution_count": 23,
   "metadata": {},
   "outputs": [
    {
     "data": {
      "text/plain": [
       "Lag    23.530225\n",
       "OLS    23.574139\n",
       "dtype: float64"
      ]
     },
     "execution_count": 23,
     "metadata": {},
     "output_type": "execute_result"
    }
   ],
   "source": [
    "from sklearn.metrics import mean_squared_error as mse\n",
    "\n",
    "mses = pd.Series({'OLS': mse(y, m1.predy.flatten()),\n",
    "                  'Lag': mse(y, m3.predy_e)\n",
    "                    })\n",
    "mses.sort_values()"
   ]
  },
  {
   "cell_type": "code",
   "execution_count": 24,
   "metadata": {},
   "outputs": [
    {
     "name": "stderr",
     "output_type": "stream",
     "text": [
      "C:\\Users\\1\\AppData\\Local\\Temp\\ipykernel_19248\\1027148540.py:4: UserWarning: The buffer_dist argument as been deprecated and will be removed in a future release. Buffer your results directly, if desired.\n",
      "  boundaries = ox.geocode_to_gdf(GM, buffer_dist=0)\n"
     ]
    },
    {
     "ename": "ImportError",
     "evalue": "The 'folium', 'matplotlib' and 'mapclassify' packages are required for 'explore()'. You can install them using 'conda install -c conda-forge folium matplotlib mapclassify' or 'pip install folium matplotlib mapclassify'.",
     "output_type": "error",
     "traceback": [
      "\u001b[1;31m---------------------------------------------------------------------------\u001b[0m",
      "\u001b[1;31mModuleNotFoundError\u001b[0m                       Traceback (most recent call last)",
      "File \u001b[1;32mc:\\Users\\1\\anaconda3\\lib\\site-packages\\geopandas\\explore.py:281\u001b[0m, in \u001b[0;36m_explore\u001b[1;34m(df, column, cmap, color, m, tiles, attr, tooltip, popup, highlight, categorical, legend, scheme, k, vmin, vmax, width, height, categories, classification_kwds, control_scale, marker_type, marker_kwds, style_kwds, highlight_kwds, missing_kwds, tooltip_kwds, popup_kwds, legend_kwds, map_kwds, **kwargs)\u001b[0m\n\u001b[0;32m    280\u001b[0m \u001b[39mtry\u001b[39;00m:\n\u001b[1;32m--> 281\u001b[0m     \u001b[39mimport\u001b[39;00m \u001b[39mbranca\u001b[39;00m \u001b[39mas\u001b[39;00m \u001b[39mbc\u001b[39;00m\n\u001b[0;32m    282\u001b[0m     \u001b[39mimport\u001b[39;00m \u001b[39mfolium\u001b[39;00m\n",
      "\u001b[1;31mModuleNotFoundError\u001b[0m: No module named 'branca'",
      "\nDuring handling of the above exception, another exception occurred:\n",
      "\u001b[1;31mImportError\u001b[0m                               Traceback (most recent call last)",
      "\u001b[1;32md:\\Dropbox\\UoM_PG\\Dissertation\\Code\\Spatial regression test1.ipynb Cell 8\u001b[0m line \u001b[0;36m<cell line: 7>\u001b[1;34m()\u001b[0m\n\u001b[0;32m      <a href='vscode-notebook-cell:/d%3A/Dropbox/UoM_PG/Dissertation/Code/Spatial%20regression%20test1.ipynb#X10sZmlsZQ%3D%3D?line=3'>4</a>\u001b[0m boundaries \u001b[39m=\u001b[39m ox\u001b[39m.\u001b[39mgeocode_to_gdf(GM, buffer_dist\u001b[39m=\u001b[39m\u001b[39m0\u001b[39m)\n\u001b[0;32m      <a href='vscode-notebook-cell:/d%3A/Dropbox/UoM_PG/Dissertation/Code/Spatial%20regression%20test1.ipynb#X10sZmlsZQ%3D%3D?line=5'>6</a>\u001b[0m \u001b[39m# Let's check the boundaries on a map\u001b[39;00m\n\u001b[1;32m----> <a href='vscode-notebook-cell:/d%3A/Dropbox/UoM_PG/Dissertation/Code/Spatial%20regression%20test1.ipynb#X10sZmlsZQ%3D%3D?line=6'>7</a>\u001b[0m boundaries\u001b[39m.\u001b[39;49mexplore()\n",
      "File \u001b[1;32mc:\\Users\\1\\anaconda3\\lib\\site-packages\\geopandas\\geodataframe.py:2101\u001b[0m, in \u001b[0;36mGeoDataFrame.explore\u001b[1;34m(self, *args, **kwargs)\u001b[0m\n\u001b[0;32m   2099\u001b[0m \u001b[39m@doc\u001b[39m(_explore)\n\u001b[0;32m   2100\u001b[0m \u001b[39mdef\u001b[39;00m \u001b[39mexplore\u001b[39m(\u001b[39mself\u001b[39m, \u001b[39m*\u001b[39margs, \u001b[39m*\u001b[39m\u001b[39m*\u001b[39mkwargs):\n\u001b[1;32m-> 2101\u001b[0m     \u001b[39mreturn\u001b[39;00m _explore(\u001b[39mself\u001b[39m, \u001b[39m*\u001b[39margs, \u001b[39m*\u001b[39m\u001b[39m*\u001b[39mkwargs)\n",
      "File \u001b[1;32mc:\\Users\\1\\anaconda3\\lib\\site-packages\\geopandas\\explore.py:297\u001b[0m, in \u001b[0;36m_explore\u001b[1;34m(df, column, cmap, color, m, tiles, attr, tooltip, popup, highlight, categorical, legend, scheme, k, vmin, vmax, width, height, categories, classification_kwds, control_scale, marker_type, marker_kwds, style_kwds, highlight_kwds, missing_kwds, tooltip_kwds, popup_kwds, legend_kwds, map_kwds, **kwargs)\u001b[0m\n\u001b[0;32m    294\u001b[0m         \u001b[39mimport\u001b[39;00m \u001b[39mmatplotlib\u001b[39;00m\u001b[39m.\u001b[39;00m\u001b[39mcm\u001b[39;00m \u001b[39mas\u001b[39;00m \u001b[39mcm\u001b[39;00m\n\u001b[0;32m    296\u001b[0m \u001b[39mexcept\u001b[39;00m (\u001b[39mImportError\u001b[39;00m, \u001b[39mModuleNotFoundError\u001b[39;00m):\n\u001b[1;32m--> 297\u001b[0m     \u001b[39mraise\u001b[39;00m \u001b[39mImportError\u001b[39;00m(\n\u001b[0;32m    298\u001b[0m         \u001b[39m\"\u001b[39m\u001b[39mThe \u001b[39m\u001b[39m'\u001b[39m\u001b[39mfolium\u001b[39m\u001b[39m'\u001b[39m\u001b[39m, \u001b[39m\u001b[39m'\u001b[39m\u001b[39mmatplotlib\u001b[39m\u001b[39m'\u001b[39m\u001b[39m and \u001b[39m\u001b[39m'\u001b[39m\u001b[39mmapclassify\u001b[39m\u001b[39m'\u001b[39m\u001b[39m packages are required for \u001b[39m\u001b[39m\"\u001b[39m\n\u001b[0;32m    299\u001b[0m         \u001b[39m\"\u001b[39m\u001b[39m'\u001b[39m\u001b[39mexplore()\u001b[39m\u001b[39m'\u001b[39m\u001b[39m. You can install them using \u001b[39m\u001b[39m\"\u001b[39m\n\u001b[0;32m    300\u001b[0m         \u001b[39m\"\u001b[39m\u001b[39m'\u001b[39m\u001b[39mconda install -c conda-forge folium matplotlib mapclassify\u001b[39m\u001b[39m'\u001b[39m\u001b[39m \u001b[39m\u001b[39m\"\u001b[39m\n\u001b[0;32m    301\u001b[0m         \u001b[39m\"\u001b[39m\u001b[39mor \u001b[39m\u001b[39m'\u001b[39m\u001b[39mpip install folium matplotlib mapclassify\u001b[39m\u001b[39m'\u001b[39m\u001b[39m.\u001b[39m\u001b[39m\"\u001b[39m\n\u001b[0;32m    302\u001b[0m     )\n\u001b[0;32m    304\u001b[0m \u001b[39m# xyservices is an optional dependency\u001b[39;00m\n\u001b[0;32m    305\u001b[0m \u001b[39mtry\u001b[39;00m:\n",
      "\u001b[1;31mImportError\u001b[0m: The 'folium', 'matplotlib' and 'mapclassify' packages are required for 'explore()'. You can install them using 'conda install -c conda-forge folium matplotlib mapclassify' or 'pip install folium matplotlib mapclassify'."
     ]
    }
   ],
   "source": [
    "GM = ['Manchester', 'Bolton', 'Bury (England)', 'Oldham (England)', 'Rochdale', 'Salford', 'Stockport', 'Tameside', 'Trafford', 'Wigan']\n",
    "\n",
    "# get the boundaries of the place (add additional buffer around the query)\n",
    "boundaries = ox.geocode_to_gdf(GM, buffer_dist=0)\n",
    "\n",
    "# Let's check the boundaries on a map\n",
    "boundaries.explore()"
   ]
  }
 ],
 "metadata": {
  "kernelspec": {
   "display_name": "Python 3",
   "language": "python",
   "name": "python3"
  },
  "language_info": {
   "codemirror_mode": {
    "name": "ipython",
    "version": 3
   },
   "file_extension": ".py",
   "mimetype": "text/x-python",
   "name": "python",
   "nbconvert_exporter": "python",
   "pygments_lexer": "ipython3",
   "version": "3.9.12"
  },
  "orig_nbformat": 4
 },
 "nbformat": 4,
 "nbformat_minor": 2
}
